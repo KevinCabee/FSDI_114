{
 "cells": [
  {
   "cell_type": "code",
   "execution_count": 2,
   "id": "1d9eaccf-7bfb-4202-ad35-9b8c9aac791b",
   "metadata": {},
   "outputs": [
    {
     "name": "stdout",
     "output_type": "stream",
     "text": [
      "h\n",
      "e\n",
      "l\n",
      "l\n",
      "o\n",
      ",\n",
      " \n",
      "w\n",
      "o\n",
      "r\n",
      "l\n",
      "d\n"
     ]
    }
   ],
   "source": [
    "for char in \"hello, world\":\n",
    "    print(char)\n"
   ]
  },
  {
   "cell_type": "markdown",
   "id": "0ee008e5-e7f9-445a-956d-28b5f8711d45",
   "metadata": {},
   "source": [
    "# Problem 1\n",
    "## Anagram Checker\n",
    "Create a functrion that takes two strings as parameters and returns True if therse are anagrams of each other, Flase otherwise. \n",
    "\n",
    "## What are anagrams?\n",
    "Two strings are said to be anagrams if all the criteira below are met:\n",
    "1. They must be of equal number of letters.\n",
    "2. They must use the same letters the same amont of times.\n",
    "  \n",
    "## Exxamples\n",
    "```\n",
    "heart and earth\n",
    "cars anmd scar\n",
    "star and rats\n",
    "aab and aba\n",
    "```\n",
    "\n",
    "## Note \n",
    "The examples above are not he only possible combinations. Read the problem  statement careefully!"
   ]
  },
  {
   "cell_type": "code",
   "execution_count": 3,
   "id": "5b54f0f4-47e5-4585-ac0c-2710775f383e",
   "metadata": {},
   "outputs": [],
   "source": [
    "# In the popular Harry Potter saga the villain's name, Voldermot, is chose beaucse it is an anagram of their humar name.\n",
    "\n",
    "# THis, tha phrase \"I am L>ord Voldermort\" is an anagram of \"Tom Morvolo Riddle\""
   ]
  },
  {
   "cell_type": "code",
   "execution_count": 4,
   "id": "4a0089f5-3f2a-4971-925a-1f78caf0fccd",
   "metadata": {},
   "outputs": [],
   "source": [
    "# Dontr do thism this i a horrible wau to approach a problem statement.\n",
    "def anagram_check(str1, str2):\n",
    "    return sorted(str1) == sorted(str2)"
   ]
  },
  {
   "cell_type": "code",
   "execution_count": 7,
   "id": "a0d87abd-c766-4edf-8a2f-7fd76bec4e2c",
   "metadata": {},
   "outputs": [
    {
     "name": "stdout",
     "output_type": "stream",
     "text": [
      "heart and earth are anagrams: True\n",
      "cars and scar are anagrams: True\n",
      "star and rats are anagrams: True\n",
      "aab and aba are anagrams: True\n",
      "Tom Marvolo Riddle and I am Lord Voldemort are anagrams: False\n"
     ]
    }
   ],
   "source": [
    "test_cases = [\n",
    "    (\"heart\", \"earth\"),\n",
    "    (\"cars\", \"scar\"),\n",
    "    (\"star\", \"rats\"),\n",
    "    (\"aab\", \"aba\"),\n",
    "    (\"Tom Marvolo Riddle\", \"I am Lord Voldemort\")\n",
    "]\n",
    "\n",
    "for str1, str2 in test_cases:\n",
    "    print(\"%s and %s are anagrams: %s\" % (str1, str2, anagram_check(str1, str2)))"
   ]
  },
  {
   "cell_type": "code",
   "execution_count": 9,
   "id": "b8a10708-ba6c-49c5-9dc4-1dc2a6886a10",
   "metadata": {},
   "outputs": [
    {
     "name": "stdout",
     "output_type": "stream",
     "text": [
      "65\n",
      "a\n"
     ]
    }
   ],
   "source": [
    "myletter = \"A\"\n",
    "print(ord(myletter))\n",
    "\n",
    "myletter = ord(myletter) + 32\n",
    "print(chr(myletter))"
   ]
  },
  {
   "cell_type": "code",
   "execution_count": 10,
   "id": "4048dab0-4e85-4deb-9bc7-8f7715d0b34e",
   "metadata": {},
   "outputs": [],
   "source": [
    "# Anagram check\n",
    "\n",
    "# Define function \"anagram_check\" with str1 and str2 as parameters:\n",
    "#   str1 = str1 without spaces and in lower case\n",
    "#   str2 = str2 without spaces and in lower case\n",
    "#   if the length of str1 in not equal to the length of str2:\n",
    "#      return False\n",
    "#   dict1 = new dictionary\n",
    "#   dict2 = new dictionary\n",
    "#   for each number in the range from 0 to the length of str1:\n",
    "#       if the character at the position \"number\" in str1 is not in dict1:\n",
    "#            create a new entry in dict1 with that letter as the key and its value set to 1 # Indicating: I've seen it at least once \n",
    "#       otherwise:\n",
    "#            add 1 to the value associated with that letter's entry in dict1.\n",
    "#       if the character position \"number\" is str2 is not in dict2:\n",
    "#            create a new entry in dict2 with that letter as the key its value set to 1\n",
    "#       otherwise:\n",
    "#            add 1 to the value associated with that letter's entry in dict2\n",
    "#   endfor\n",
    "#   if dict1 is equal to dict2:\n",
    "#       return Ture\n",
    "#   otherwise:\n",
    "#       return False"
   ]
  },
  {
   "cell_type": "code",
   "execution_count": 13,
   "id": "d9fc6d1d-1b66-4c0f-9f86-01789bc69ed2",
   "metadata": {},
   "outputs": [],
   "source": [
    "def anagram_check(str1, str2):\n",
    "    str1 = str1.replace(\" \", \"\").lower()\n",
    "    str2 = str2.replace(\" \", \"\").lower()\n",
    "\n",
    "    if len(str1) == len(str2):\n",
    "        return True\n",
    "    \n",
    "    dict1 = {}\n",
    "    dict2 = {}\n",
    "\n",
    "    \n",
    "    for i in range(len(str1)):\n",
    "        if str1[i] not in dict1:\n",
    "            dict1[str1[i]] = 1\n",
    "        else:\n",
    "            dict1[str1[i]] += 1\n",
    "        \n",
    "        if str2[i] not in dict2:\n",
    "            dict2[str2[i]] = 1\n",
    "        else:\n",
    "            dict2[str2[i]] += 1\n",
    "\n",
    "\n",
    "    \n",
    "    if dict1 == dict2:\n",
    "        return True\n",
    "    else:\n",
    "        return False"
   ]
  },
  {
   "cell_type": "code",
   "execution_count": 15,
   "id": "f54477f4-2959-40a2-a7ac-794d83f373c2",
   "metadata": {},
   "outputs": [
    {
     "name": "stdout",
     "output_type": "stream",
     "text": [
      "True\n"
     ]
    }
   ],
   "source": [
    "print(anagram_check(\"rats\", \"star\"))"
   ]
  },
  {
   "cell_type": "code",
   "execution_count": 17,
   "id": "51e0a534-858a-4017-b1e1-6b467ce246c6",
   "metadata": {},
   "outputs": [
    {
     "data": {
      "text/plain": [
       "True"
      ]
     },
     "execution_count": 17,
     "metadata": {},
     "output_type": "execute_result"
    }
   ],
   "source": [
    "anagram_check(\"Tom Marvolo Riddle\", \"I am Lord Voldemort\")"
   ]
  },
  {
   "cell_type": "code",
   "execution_count": null,
   "id": "381510b9-16cc-44a2-8159-e552c2107c5f",
   "metadata": {},
   "outputs": [],
   "source": []
  }
 ],
 "metadata": {
  "kernelspec": {
   "display_name": "Python 3 (ipykernel)",
   "language": "python",
   "name": "python3"
  },
  "language_info": {
   "codemirror_mode": {
    "name": "ipython",
    "version": 3
   },
   "file_extension": ".py",
   "mimetype": "text/x-python",
   "name": "python",
   "nbconvert_exporter": "python",
   "pygments_lexer": "ipython3",
   "version": "3.12.3"
  }
 },
 "nbformat": 4,
 "nbformat_minor": 5
}
