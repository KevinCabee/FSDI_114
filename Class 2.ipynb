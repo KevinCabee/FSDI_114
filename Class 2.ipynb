{
 "cells": [
  {
   "cell_type": "markdown",
   "id": "d486b0a3-e871-4d13-ae7c-221946094b7f",
   "metadata": {},
   "source": [
    "# Stacks\n",
    "\n",
    "1. Simplified implementation, using built-ins. \n",
    "2. From-scratch implementation, without built-ins."
   ]
  },
  {
   "cell_type": "code",
   "execution_count": 9,
   "id": "9a269072-5a2d-4d4b-903d-03fc2da63c58",
   "metadata": {},
   "outputs": [],
   "source": [
    "# Simplified implementation, relying on built-ins\n",
    "\n",
    "class Stack:\n",
    "    def __init__(self):\n",
    "        self.items = []\n",
    "\n",
    "    def push(self, value):\n",
    "        self.items.append(value)\n",
    "\n",
    "    def pop(self):\n",
    "        return self.items.pop()\n",
    "\n",
    "    #Nice to have methods\n",
    "    def peek(self):\n",
    "        return self.items[len(self.items)-1]\n",
    "\n",
    "    def size(self):\n",
    "        return len(self.items)\n",
    "\n",
    "    def is_empty(self):\n",
    "        return self.items == []"
   ]
  },
  {
   "cell_type": "code",
   "execution_count": 10,
   "id": "99f351e3-0f32-49c6-80dc-f905d05f0a6c",
   "metadata": {},
   "outputs": [
    {
     "data": {
      "text/plain": [
       "'niveK'"
      ]
     },
     "execution_count": 10,
     "metadata": {},
     "output_type": "execute_result"
    }
   ],
   "source": [
    "def invert_str(mystring):\n",
    "    stack = Stack()\n",
    "    for char in mystring:\n",
    "        stack.push(char)\n",
    "    out = \"\"\n",
    "    while not stack.is_empty():\n",
    "        out += stack.pop()\n",
    "    return out\n",
    "\n",
    "invert_str(\"Kevin\")"
   ]
  },
  {
   "cell_type": "code",
   "execution_count": 9,
   "id": "ea5180b3-0bae-4a3d-8e5a-4f981df557c2",
   "metadata": {},
   "outputs": [],
   "source": [
    "# From scratch implementation of Stack\n",
    "\n",
    "class StackII:\n",
    "    def __init__(self):\n",
    "        self.top = None\n",
    "\n",
    "    class __Node:\n",
    "        def __init__(self, data):\n",
    "            self.data = data\n",
    "            self.below = None\n",
    "\n",
    "    def push(self, value):\n",
    "        new_node = self.__Node(value)\n",
    "        if not self.top:\n",
    "            self.top = new_node\n",
    "        else:\n",
    "            new_node.below = self.top\n",
    "            self.top = new_node\n",
    "\n",
    "    def pop(self):\n",
    "        if self.top:\n",
    "            datum = self.top.data\n",
    "            self.top = self.top.below\n",
    "            return datum\n",
    "        raise IndexError(\"Stack is empty\")\n",
    "\n",
    "    # Nice to have methods\n",
    "    def peek(self):\n",
    "        if not self.top:\n",
    "            raise IndexError(\"Stack is Empty\")\n",
    "        else: \n",
    "            return self.top.data\n",
    "            \n",
    "    \n",
    "    def size(self):\n",
    "        count = 0\n",
    "        if self.top: \n",
    "            current = self.top\n",
    "            while current:\n",
    "                current  = current.below\n",
    "                count += 1\n",
    "            return count\n",
    "\n",
    "    def is_empty(self):\n",
    "        return self.top == None"
   ]
  },
  {
   "cell_type": "code",
   "execution_count": 10,
   "id": "69ef1e04-6bed-4299-ab05-9b55110205aa",
   "metadata": {},
   "outputs": [
    {
     "name": "stdout",
     "output_type": "stream",
     "text": [
      "The stack contains 5 elements\n"
     ]
    },
    {
     "data": {
      "text/plain": [
       "'niveK'"
      ]
     },
     "execution_count": 10,
     "metadata": {},
     "output_type": "execute_result"
    }
   ],
   "source": [
    "def invert_str_2(mystring):\n",
    "    stack = StackII()\n",
    "    for char in mystring:\n",
    "        stack.push(char)\n",
    "    print(\"The stack contains %s elements\" % stack.size())\n",
    "    out = \"\"\n",
    "    while not stack.is_empty():\n",
    "        out += stack.pop()\n",
    "    return out\n",
    "\n",
    "invert_str_2(\"Kevin\")"
   ]
  },
  {
   "cell_type": "code",
   "execution_count": null,
   "id": "3faeece6-2040-487d-b732-3e7e81d6d3b5",
   "metadata": {},
   "outputs": [],
   "source": []
  }
 ],
 "metadata": {
  "kernelspec": {
   "display_name": "Python 3 (ipykernel)",
   "language": "python",
   "name": "python3"
  },
  "language_info": {
   "codemirror_mode": {
    "name": "ipython",
    "version": 3
   },
   "file_extension": ".py",
   "mimetype": "text/x-python",
   "name": "python",
   "nbconvert_exporter": "python",
   "pygments_lexer": "ipython3",
   "version": "3.12.3"
  }
 },
 "nbformat": 4,
 "nbformat_minor": 5
}
