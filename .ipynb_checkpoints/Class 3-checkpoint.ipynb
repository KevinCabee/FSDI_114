{
 "cells": [
  {
   "cell_type": "markdown",
   "id": "fd5b3605-77f7-4958-bd9f-0bf4db69bc0e",
   "metadata": {},
   "source": [
    "# Queues\n",
    "1. Simplified implementation (relying on built-ins)\n",
    "2. From-scratch implementation (no built-ins)"
   ]
  },
  {
   "cell_type": "code",
   "execution_count": 2,
   "id": "6c3225c1-c7a1-4fe7-9d27-772dac0ab8b6",
   "metadata": {},
   "outputs": [],
   "source": [
    "# Simplified implementation of Queue (relying on built-ins)\n",
    "\n",
    "class Queue:\n",
    "    def __init__(self):\n",
    "        self.items = []\n",
    "\n",
    "    def enqueue(self, value):\n",
    "        self.itmes.insert(0, value)\n",
    "\n",
    "    def dequeue(self):\n",
    "        return self.items.pop()\n",
    "\n",
    "    # Nice to have methods\n",
    "    def peek(self):\n",
    "        return self.items[len(self.itmes)-1]\n",
    "\n",
    "    def size(self):\n",
    "        return len(self.items)\n",
    "\n",
    "    def is_empty(self):\n",
    "        return self.items == []\n",
    "\n"
   ]
  },
  {
   "cell_type": "code",
   "execution_count": 6,
   "id": "f10dbde5-a2ad-49e2-82db-dcd91e1b736f",
   "metadata": {},
   "outputs": [],
   "source": [
    "# From scratch implementation of QueueII\n",
    "\n",
    "class QueueII:\n",
    "    def __init__(self):\n",
    "        self.front = None\n",
    "        self.rear = None\n",
    "\n",
    "    class __Node:\n",
    "        def __init__(self, data):\n",
    "            self.data = data\n",
    "            self.next = None\n",
    "\n",
    "    def enqueue(self, value):\n",
    "        new_node = self.__Node(value)\n",
    "        if not self.rear:\n",
    "            self.front = self.rear = new_node\n",
    "        else:\n",
    "            self.rear.next = new_node\n",
    "            self.rear = new_node\n",
    "        \n",
    "\n",
    "    def dequeue(self):\n",
    "        if self.front:\n",
    "            datum = self.front.data\n",
    "            self.front = self.front.next\n",
    "            return datum\n",
    "        else:\n",
    "            raise IndexError(\"The Queue is empty!\")\n",
    "\n",
    "# Nice to have methods\n",
    "\n",
    "    def peek(self):\n",
    "        if not self.front:\n",
    "            raise IndexError(\"The Queue is empty!\")\n",
    "        else:\n",
    "            return self.front.data\n",
    "\n",
    "\n",
    "    def size(self):\n",
    "        count = 0\n",
    "        if self.front:\n",
    "            current =  self.front\n",
    "            while current:\n",
    "                current  = current.rear.next\n",
    "                count += 1\n",
    "            return count\n",
    "\n",
    "\n",
    "    def is_empty(self): \n",
    "        return self.front == None\n",
    "            "
   ]
  },
  {
   "cell_type": "code",
   "execution_count": 17,
   "id": "cd085994-81c1-4eb5-bf6e-d9220133d7bb",
   "metadata": {},
   "outputs": [
    {
     "ename": "NameError",
     "evalue": "name 'queue' is not defined",
     "output_type": "error",
     "traceback": [
      "\u001b[0;31m---------------------------------------------------------------------------\u001b[0m",
      "\u001b[0;31mNameError\u001b[0m                                 Traceback (most recent call last)",
      "Cell \u001b[0;32mIn[17], line 5\u001b[0m\n\u001b[1;32m      3\u001b[0m     \u001b[38;5;28;01mfor\u001b[39;00m char \u001b[38;5;129;01min\u001b[39;00m mytest:\n\u001b[1;32m      4\u001b[0m         queue\u001b[38;5;241m.\u001b[39mpush(char)\n\u001b[0;32m----> 5\u001b[0m \u001b[38;5;28mprint\u001b[39m(\u001b[38;5;124m\"\u001b[39m\u001b[38;5;124mThe Queue contains \u001b[39m\u001b[38;5;132;01m%s\u001b[39;00m\u001b[38;5;124m elements\u001b[39m\u001b[38;5;124m\"\u001b[39m \u001b[38;5;241m%\u001b[39m \u001b[43mqueue\u001b[49m\u001b[38;5;241m.\u001b[39msize())\n\u001b[1;32m      6\u001b[0m out \u001b[38;5;241m=\u001b[39m \u001b[38;5;124m\"\u001b[39m\u001b[38;5;124m\"\u001b[39m\n\u001b[1;32m      7\u001b[0m \u001b[38;5;28;01mwhile\u001b[39;00m \u001b[38;5;129;01mnot\u001b[39;00m queue\u001b[38;5;241m.\u001b[39mis_empty():\n",
      "\u001b[0;31mNameError\u001b[0m: name 'queue' is not defined"
     ]
    }
   ],
   "source": [
    "def test(mytest):\n",
    "    queue = QueueII()\n",
    "    for char in mytest:\n",
    "        queue.push(char)\n",
    "print(\"The Queue contains %s elements\" % queue.size())\n",
    "out = \"\"\n",
    "while not queue.is_empty():\n",
    "    out += queue.dequeue()\n",
    "return out\n",
    "\n",
    "mytest(\"Kevin\")"
   ]
  },
  {
   "cell_type": "code",
   "execution_count": null,
   "id": "081f0705-283f-4ef4-85c0-507f91a82494",
   "metadata": {},
   "outputs": [],
   "source": []
  }
 ],
 "metadata": {
  "kernelspec": {
   "display_name": "Python 3 (ipykernel)",
   "language": "python",
   "name": "python3"
  },
  "language_info": {
   "codemirror_mode": {
    "name": "ipython",
    "version": 3
   },
   "file_extension": ".py",
   "mimetype": "text/x-python",
   "name": "python",
   "nbconvert_exporter": "python",
   "pygments_lexer": "ipython3",
   "version": "3.12.3"
  }
 },
 "nbformat": 4,
 "nbformat_minor": 5
}
