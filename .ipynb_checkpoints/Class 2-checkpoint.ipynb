{
 "cells": [
  {
   "cell_type": "markdown",
   "id": "d486b0a3-e871-4d13-ae7c-221946094b7f",
   "metadata": {},
   "source": [
    "# Stacks\n",
    "\n",
    "1. Simplified implementation, using built-ins. \n",
    "2. From-scratch implementation, without built-ins."
   ]
  },
  {
   "cell_type": "code",
   "execution_count": 6,
   "id": "4888d860-f8b1-4faa-aac8-41774d9fddf2",
   "metadata": {},
   "outputs": [
    {
     "ename": "SyntaxError",
     "evalue": "invalid syntax (1129065905.py, line 15)",
     "output_type": "error",
     "traceback": [
      "\u001b[0;36m  Cell \u001b[0;32mIn[6], line 15\u001b[0;36m\u001b[0m\n\u001b[0;31m    return: self.items[len(self.items)-1]\u001b[0m\n\u001b[0m          ^\u001b[0m\n\u001b[0;31mSyntaxError\u001b[0m\u001b[0;31m:\u001b[0m invalid syntax\n"
     ]
    }
   ],
   "source": [
    "# Simplified implementation, relying on built-ins\n",
    "\n",
    "class Stack:\n",
    "    def __init__(self):\n",
    "        self.items = []\n",
    "\n",
    "    def push(self, value):\n",
    "        self.items.append(value)\n",
    "\n",
    "    def pop(self):\n",
    "        return self.items.pop()\n",
    "\n",
    "    #Nice to have methods\n",
    "    def peek(self):\n",
    "        return: self.items[len(self.items)-1]\n",
    "\n",
    "    def size(self):\n",
    "        return len(self.items)\n",
    "\n",
    "    def is_empty(self):\n",
    "        return self.items == []"
   ]
  },
  {
   "cell_type": "code",
   "execution_count": null,
   "id": "99f351e3-0f32-49c6-80dc-f905d05f0a6c",
   "metadata": {},
   "outputs": [],
   "source": []
  }
 ],
 "metadata": {
  "kernelspec": {
   "display_name": "Python 3 (ipykernel)",
   "language": "python",
   "name": "python3"
  },
  "language_info": {
   "codemirror_mode": {
    "name": "ipython",
    "version": 3
   },
   "file_extension": ".py",
   "mimetype": "text/x-python",
   "name": "python",
   "nbconvert_exporter": "python",
   "pygments_lexer": "ipython3",
   "version": "3.12.3"
  }
 },
 "nbformat": 4,
 "nbformat_minor": 5
}
